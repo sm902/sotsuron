{
 "cells": [
  {
   "cell_type": "markdown",
   "metadata": {},
   "source": [
    "### 経済センサスデータを用いた簡易住宅地地価予測"
   ]
  },
  {
   "cell_type": "code",
   "execution_count": null,
   "metadata": {},
   "outputs": [],
   "source": [
    "!python -m pip install pandas geopandas contextily matplotlib pygeos scikit-learn"
   ]
  },
  {
   "cell_type": "code",
   "execution_count": 62,
   "metadata": {},
   "outputs": [],
   "source": [
    "import pandas as pd\n",
    "import geopandas as gpd\n",
    "import contextily as cx\n",
    "import numpy as np\n",
    "import matplotlib.pyplot as plt\n",
    "import sklearn.metrics as metrics"
   ]
  },
  {
   "cell_type": "code",
   "execution_count": 2,
   "metadata": {},
   "outputs": [],
   "source": [
    "# 経済センサスメッシュデータの準備\n",
    "mesh = gpd.read_file('data/HDDSWH5339/MESH05339.shp', crs=4612).to_crs(2451)\n",
    "mesh = mesh[['KEY_CODE', 'geometry']]\n",
    "mesh.KEY_CODE = mesh.KEY_CODE.astype(str)\n",
    "keizai = pd.read_csv(\"data/tblT000389H5339.txt\", encoding='sjis', skiprows=1)\n",
    "keizai.columns = ['KEY_CODE', 'company', 'people']\n",
    "keizai.KEY_CODE = keizai.KEY_CODE.astype(str)\n",
    "keizai_mesh = pd.merge(mesh, keizai, on='KEY_CODE')"
   ]
  },
  {
   "cell_type": "code",
   "execution_count": 3,
   "metadata": {},
   "outputs": [],
   "source": [
    "# 公示地価データの準備\n",
    "chika = gpd.read_file('data/tokyo-koji/L01-22_13.shp', crs=4612).to_crs(2451)\n",
    "chika = chika[(chika.L01_027 == '住宅') & (chika.L01_049 > 700) & (chika.L01_049 < 1300)]\n",
    "chika = chika[['L01_006', 'L01_026', 'L01_049', 'geometry']]\n",
    "chika.columns = ['price', 'menseki', 'station', 'geometry']\n",
    "chika['pm'] = chika.price / chika.menseki\n",
    "chika['p10'] = np.log10(chika.pm)\n",
    "# chika['tokyo'] = chika.geometry.distance(keizai_mesh.sort_values('people', ascending=False).geometry.values[0])"
   ]
  },
  {
   "cell_type": "code",
   "execution_count": 19,
   "metadata": {},
   "outputs": [
    {
     "data": {
      "text/plain": [
       "<AxesSubplot:>"
      ]
     },
     "execution_count": 19,
     "metadata": {},
     "output_type": "execute_result"
    },
    {
     "data": {
      "image/png": "[encoded data removed]",
      "text/plain": [
       "<Figure size 432x288 with 1 Axes>"
      ]
     },
     "metadata": {
      "needs_background": "light"
     },
     "output_type": "display_data"
    }
   ],
   "source": [
    "x = pd.Series(np.log10(keizai_mesh.people, where=keizai_mesh.people>0))\n",
    "x[x > 0].hist()"
   ]
  },
  {
   "cell_type": "code",
   "execution_count": 96,
   "metadata": {},
   "outputs": [
    {
     "data": {
      "text/html": [
       "<div>\n",
       "<style scoped>\n",
       "    .dataframe tbody tr th:only-of-type {\n",
       "        vertical-align: middle;\n",
       "    }\n",
       "\n",
       "    .dataframe tbody tr th {\n",
       "        vertical-align: top;\n",
       "    }\n",
       "\n",
       "    .dataframe thead th {\n",
       "        text-align: right;\n",
       "    }\n",
       "</style>\n",
       "<table border=\"1\" class=\"dataframe\">\n",
       "  <thead>\n",
       "    <tr style=\"text-align: right;\">\n",
       "      <th></th>\n",
       "      <th>price</th>\n",
       "      <th>menseki</th>\n",
       "      <th>station</th>\n",
       "      <th>geometry</th>\n",
       "      <th>pm</th>\n",
       "      <th>p10</th>\n",
       "      <th>tokyo</th>\n",
       "      <th>keizai</th>\n",
       "      <th>keizai10</th>\n",
       "    </tr>\n",
       "  </thead>\n",
       "  <tbody>\n",
       "    <tr>\n",
       "      <th>830</th>\n",
       "      <td>1420000</td>\n",
       "      <td>137</td>\n",
       "      <td>750</td>\n",
       "      <td>POINT (-11633.832 -37317.765)</td>\n",
       "      <td>10364.963504</td>\n",
       "      <td>4.015568</td>\n",
       "      <td>5662.073961</td>\n",
       "      <td>30.918865</td>\n",
       "      <td>1.490224</td>\n",
       "    </tr>\n",
       "    <tr>\n",
       "      <th>820</th>\n",
       "      <td>1320000</td>\n",
       "      <td>249</td>\n",
       "      <td>900</td>\n",
       "      <td>POINT (-10461.234 -39498.025)</td>\n",
       "      <td>5301.204819</td>\n",
       "      <td>3.724375</td>\n",
       "      <td>5956.390504</td>\n",
       "      <td>20.162572</td>\n",
       "      <td>1.304546</td>\n",
       "    </tr>\n",
       "    <tr>\n",
       "      <th>836</th>\n",
       "      <td>1270000</td>\n",
       "      <td>297</td>\n",
       "      <td>1100</td>\n",
       "      <td>POINT (-10654.077 -38324.527)</td>\n",
       "      <td>4276.094276</td>\n",
       "      <td>3.631047</td>\n",
       "      <td>5310.718222</td>\n",
       "      <td>20.003038</td>\n",
       "      <td>1.301096</td>\n",
       "    </tr>\n",
       "    <tr>\n",
       "      <th>831</th>\n",
       "      <td>1740000</td>\n",
       "      <td>304</td>\n",
       "      <td>900</td>\n",
       "      <td>POINT (-12443.085 -38511.422)</td>\n",
       "      <td>5723.684211</td>\n",
       "      <td>3.757676</td>\n",
       "      <td>6914.737582</td>\n",
       "      <td>19.051738</td>\n",
       "      <td>1.279935</td>\n",
       "    </tr>\n",
       "    <tr>\n",
       "      <th>145</th>\n",
       "      <td>1730000</td>\n",
       "      <td>380</td>\n",
       "      <td>760</td>\n",
       "      <td>POINT (-9114.738 -38911.946)</td>\n",
       "      <td>4552.631579</td>\n",
       "      <td>3.658263</td>\n",
       "      <td>4648.572079</td>\n",
       "      <td>18.952369</td>\n",
       "      <td>1.277664</td>\n",
       "    </tr>\n",
       "    <tr>\n",
       "      <th>...</th>\n",
       "      <td>...</td>\n",
       "      <td>...</td>\n",
       "      <td>...</td>\n",
       "      <td>...</td>\n",
       "      <td>...</td>\n",
       "      <td>...</td>\n",
       "      <td>...</td>\n",
       "      <td>...</td>\n",
       "      <td>...</td>\n",
       "    </tr>\n",
       "    <tr>\n",
       "      <th>2511</th>\n",
       "      <td>66100</td>\n",
       "      <td>121</td>\n",
       "      <td>1200</td>\n",
       "      <td>POINT (-53810.837 -30068.397)</td>\n",
       "      <td>546.280992</td>\n",
       "      <td>2.737416</td>\n",
       "      <td>47622.428827</td>\n",
       "      <td>0.511041</td>\n",
       "      <td>-0.291544</td>\n",
       "    </tr>\n",
       "    <tr>\n",
       "      <th>1863</th>\n",
       "      <td>90100</td>\n",
       "      <td>193</td>\n",
       "      <td>1100</td>\n",
       "      <td>POINT (-52516.111 -23680.614)</td>\n",
       "      <td>466.839378</td>\n",
       "      <td>2.669167</td>\n",
       "      <td>47396.190571</td>\n",
       "      <td>0.499394</td>\n",
       "      <td>-0.301557</td>\n",
       "    </tr>\n",
       "    <tr>\n",
       "      <th>1883</th>\n",
       "      <td>92300</td>\n",
       "      <td>165</td>\n",
       "      <td>950</td>\n",
       "      <td>POINT (-52847.847 -23009.706)</td>\n",
       "      <td>559.393939</td>\n",
       "      <td>2.747718</td>\n",
       "      <td>47877.881391</td>\n",
       "      <td>0.489807</td>\n",
       "      <td>-0.309975</td>\n",
       "    </tr>\n",
       "    <tr>\n",
       "      <th>1884</th>\n",
       "      <td>59000</td>\n",
       "      <td>165</td>\n",
       "      <td>1200</td>\n",
       "      <td>POINT (-54581.210 -23935.026)</td>\n",
       "      <td>357.575758</td>\n",
       "      <td>2.553368</td>\n",
       "      <td>49351.399552</td>\n",
       "      <td>0.468296</td>\n",
       "      <td>-0.329480</td>\n",
       "    </tr>\n",
       "    <tr>\n",
       "      <th>1880</th>\n",
       "      <td>44800</td>\n",
       "      <td>127</td>\n",
       "      <td>970</td>\n",
       "      <td>POINT (-56175.068 -21895.805)</td>\n",
       "      <td>352.755906</td>\n",
       "      <td>2.547474</td>\n",
       "      <td>51376.901219</td>\n",
       "      <td>0.435723</td>\n",
       "      <td>-0.360789</td>\n",
       "    </tr>\n",
       "  </tbody>\n",
       "</table>\n",
       "<p>422 rows × 9 columns</p>\n",
       "</div>"
      ],
      "text/plain": [
       "        price  menseki  station                       geometry            pm  \\\n",
       "830   1420000      137      750  POINT (-11633.832 -37317.765)  10364.963504   \n",
       "820   1320000      249      900  POINT (-10461.234 -39498.025)   5301.204819   \n",
       "836   1270000      297     1100  POINT (-10654.077 -38324.527)   4276.094276   \n",
       "831   1740000      304      900  POINT (-12443.085 -38511.422)   5723.684211   \n",
       "145   1730000      380      760   POINT (-9114.738 -38911.946)   4552.631579   \n",
       "...       ...      ...      ...                            ...           ...   \n",
       "2511    66100      121     1200  POINT (-53810.837 -30068.397)    546.280992   \n",
       "1863    90100      193     1100  POINT (-52516.111 -23680.614)    466.839378   \n",
       "1883    92300      165      950  POINT (-52847.847 -23009.706)    559.393939   \n",
       "1884    59000      165     1200  POINT (-54581.210 -23935.026)    357.575758   \n",
       "1880    44800      127      970  POINT (-56175.068 -21895.805)    352.755906   \n",
       "\n",
       "           p10         tokyo     keizai  keizai10  \n",
       "830   4.015568   5662.073961  30.918865  1.490224  \n",
       "820   3.724375   5956.390504  20.162572  1.304546  \n",
       "836   3.631047   5310.718222  20.003038  1.301096  \n",
       "831   3.757676   6914.737582  19.051738  1.279935  \n",
       "145   3.658263   4648.572079  18.952369  1.277664  \n",
       "...        ...           ...        ...       ...  \n",
       "2511  2.737416  47622.428827   0.511041 -0.291544  \n",
       "1863  2.669167  47396.190571   0.499394 -0.301557  \n",
       "1883  2.747718  47877.881391   0.489807 -0.309975  \n",
       "1884  2.553368  49351.399552   0.468296 -0.329480  \n",
       "1880  2.547474  51376.901219   0.435723 -0.360789  \n",
       "\n",
       "[422 rows x 9 columns]"
      ]
     },
     "execution_count": 96,
     "metadata": {},
     "output_type": "execute_result"
    }
   ],
   "source": [
    "chikap = chika.copy()\n",
    "ans = []\n",
    "keizai2 = keizai_mesh[keizai_mesh.people > 7500]\n",
    "for row in chikap.geometry:\n",
    "    x = []\n",
    "    for g, p in zip(keizai2.geometry.centroid, keizai2.people):\n",
    "        x.append(p / ((row.distance(g) ** 1.5) + 250))\n",
    "    ans.append(sum(x))\n",
    "chikap['keizai'] = ans\n",
    "chikap['keizai10'] = np.log10(chikap.keizai)\n",
    "chikap.sort_values('keizai10', ascending=False)"
   ]
  },
  {
   "cell_type": "code",
   "execution_count": 97,
   "metadata": {},
   "outputs": [
    {
     "name": "stdout",
     "output_type": "stream",
     "text": [
      "0.6987583148852629 3.0640904737280055\n",
      "0.6725555367576174\n"
     ]
    },
    {
     "data": {
      "image/png": "[encoded data removed]",
      "text/plain": [
       "<Figure size 432x288 with 1 Axes>"
      ]
     },
     "metadata": {
      "needs_background": "light"
     },
     "output_type": "display_data"
    }
   ],
   "source": [
    "th = 4\n",
    "ax = chikap[chikap.keizai10 < th].plot(x='keizai10', y='p10', kind='scatter')\n",
    "x = chikap[chikap.keizai10 < th].keizai10\n",
    "y = chikap[chikap.keizai10 < th].p10\n",
    "a, b = np.polyfit(x, y, 1)\n",
    "print(a, b)\n",
    "ax.plot(x, a * x + b)\n",
    "r2 = metrics.r2_score(y, a * x + b)\n",
    "print(r2)\n",
    "plt.show()"
   ]
  },
  {
   "cell_type": "code",
   "execution_count": null,
   "metadata": {},
   "outputs": [],
   "source": []
  },
  {
   "cell_type": "code",
   "execution_count": null,
   "metadata": {},
   "outputs": [],
   "source": []
  },
  {
   "cell_type": "code",
   "execution_count": null,
   "metadata": {},
   "outputs": [
    {
     "name": "stdout",
     "output_type": "stream",
     "text": [
      "-1.9638837221121658e-05 3.723296948737169\n",
      "0.6637930386396318\n"
     ]
    },
    {
     "data": {
      "image/png": "[encoded data removed]",
      "text/plain": [
       "<Figure size 432x288 with 1 Axes>"
      ]
     },
     "metadata": {},
     "output_type": "display_data"
    }
   ],
   "source": [
    "ax = chika.plot(x='tokyo', y='p10', kind='scatter')\n",
    "a, b = np.polyfit(chika.tokyo, chika.p10, 1)\n",
    "print(a, b)\n",
    "ax.plot(chika.tokyo, a * chika.tokyo + b)\n",
    "r2 = metrics.r2_score(chika.p10, a * chika.tokyo + b)\n",
    "print(r2)\n",
    "plt.show()"
   ]
  }
 ],
 "metadata": {
  "kernelspec": {
   "display_name": "Python 3.9.2 64-bit",
   "language": "python",
   "name": "python3"
  },
  "language_info": {
   "codemirror_mode": {
    "name": "ipython",
    "version": 3
   },
   "file_extension": ".py",
   "mimetype": "text/x-python",
   "name": "python",
   "nbconvert_exporter": "python",
   "pygments_lexer": "ipython3",
   "version": "3.9.2"
  },
  "orig_nbformat": 4,
  "vscode": {
   "interpreter": {
    "hash": "e382683cf79178df3851f66156954844fa21ded8d8dbdfe473c3d2f0f3ac270f"
   }
  }
 },
 "nbformat": 4,
 "nbformat_minor": 2
}
